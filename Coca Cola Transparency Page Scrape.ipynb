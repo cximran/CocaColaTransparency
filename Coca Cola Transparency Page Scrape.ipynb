{
 "cells": [
  {
   "cell_type": "markdown",
   "metadata": {},
   "source": [
    "# Scraping Content from Coca Cola's Transparency Page\n",
    "This is a simple script that takes a list of organization's from Coke's transparency page (www.coca-colacompany.com/transparency) and converts it to a CSV for easy parsing. \n",
    "\n",
    "The page articulates various research efforts and partnerships of the Coca Cola Company. \n",
    "\n",
    "Note that there are some places in the original data where contributions were made over the course of multiple years. In those cases, the total amount was divided by the number of years the contributions were made. "
   ]
  },
  {
   "cell_type": "code",
   "execution_count": 38,
   "metadata": {
    "collapsed": false
   },
   "outputs": [],
   "source": [
    "from bs4 import BeautifulSoup\n",
    "import requests, pandas as pd, re\n",
    "from decimal import Decimal #The Decimal module was used to round currency to two decimals \n",
    "p = re.compile(ur'[\\$\\,\\ ]') #Text for Regular expression to remove currency formatting. \n",
    "format = lambda x: Decimal(re.sub(p,'',x))"
   ]
  },
  {
   "cell_type": "code",
   "execution_count": 39,
   "metadata": {
    "collapsed": true
   },
   "outputs": [],
   "source": [
    "data=requests.get('http://www.coca-colacompany.com/transparency-search?noCache=true').text"
   ]
  },
  {
   "cell_type": "code",
   "execution_count": 40,
   "metadata": {
    "collapsed": false
   },
   "outputs": [],
   "source": [
    "soup=BeautifulSoup(data,'html.parser')\n",
    "frame=pd.DataFrame(columns=['Title','Type','Organization','Amount','Date']) #Build the initial dataframe"
   ]
  },
  {
   "cell_type": "code",
   "execution_count": 41,
   "metadata": {
    "collapsed": false
   },
   "outputs": [],
   "source": [
    "for row in soup.findAll('tr'):\n",
    "    datarow=[]\n",
    "    for tabledata in row.findAll('td'):\n",
    "        if(tabledata.find('span',{'class':'expandedTd'})):\n",
    "            datarow.append(tabledata.find('span',{'class':'expandedTd'}).text.strip().encode('ascii','ignore'))\n",
    "        else:\n",
    "            datarow.append(tabledata.text.strip().encode('ascii','ignore'))\n",
    "    if len(datarow)!=0:\n",
    "        frame=frame.append(pd.DataFrame([datarow],columns=['Title','Type','Organization','Amount','Date']))\n",
    "    \n",
    "frame['Amount']=frame['Amount'].map(format)\n",
    "fourchardates=(frame.loc[frame['Date'].str.len()==4])\n",
    "longdates=(frame.loc[frame['Date'].str.len()>4])\n",
    "expandeddates=pd.DataFrame(columns=['Title','Type','Organization','Amount','Date'])\n",
    "for row in longdates.iterrows():\n",
    "    for year in range(int(row[1][4].split('-')[0]),int(row[1][4].split('-')[1])+1):\n",
    "    \n",
    "        expandeddates=expandeddates.append((pd.DataFrame([[row[1][0],row[1][1],row[1][2],Decimal(row[1][3]/len(range(int(row[1][4].split('-')[0]),int(row[1][4].split('-')[1])+1))).quantize(Decimal('.01')),year]],columns=['Title','Type','Organization','Amount','Date'])))\n",
    "alldates=fourchardates.append(expandeddates)"
   ]
  },
  {
   "cell_type": "code",
   "execution_count": 42,
   "metadata": {
    "collapsed": true
   },
   "outputs": [],
   "source": [
    "alldates.to_csv(\"Coca Cola Transparency Page.csv\")"
   ]
  },
  {
   "cell_type": "code",
   "execution_count": null,
   "metadata": {
    "collapsed": true
   },
   "outputs": [],
   "source": []
  },
  {
   "cell_type": "code",
   "execution_count": null,
   "metadata": {
    "collapsed": true
   },
   "outputs": [],
   "source": []
  }
 ],
 "metadata": {
  "kernelspec": {
   "display_name": "Python 2",
   "language": "python",
   "name": "python2"
  },
  "language_info": {
   "codemirror_mode": {
    "name": "ipython",
    "version": 2
   },
   "file_extension": ".py",
   "mimetype": "text/x-python",
   "name": "python",
   "nbconvert_exporter": "python",
   "pygments_lexer": "ipython2",
   "version": "2.7.10"
  }
 },
 "nbformat": 4,
 "nbformat_minor": 0
}
